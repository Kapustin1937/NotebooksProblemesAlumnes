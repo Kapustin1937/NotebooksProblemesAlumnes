{
 "cells": [
  {
   "cell_type": "markdown",
   "metadata": {
    "id": "AAas650wnvvS"
   },
   "source": [
    "# Capítol 5 - Dividir i Vèncer"
   ]
  },
  {
   "cell_type": "markdown",
   "metadata": {
    "id": "59HcX9a0nvvs"
   },
   "source": [
    "### 5.24 Xifres i lletres"
   ]
  },
  {
   "cell_type": "markdown",
   "metadata": {},
   "source": [
    "Considera una llista de cadenes de text ab dos tipus de dades diferentes: cadenes de lletres i cadenes de nombres, com ara la llista ``['aa', '123', 'bc', '98']``. L'objectiu d'aquest problema és ordenar aquesta llista de manera que les cadenes formades per nombres quedin al capdavant. Aquest algorisme no ha de retornar res, només ha de modificar la llista d'entrada.\n",
    "\n",
    "Escriu una funció ``xifres_lletres_ord_sel`` que resolgui el problema usant el mètode d'**ordenació per selecció**. Demostra que la complexitat de l'algorisme que has escrit és $\\mathcal{O}(n^2)$."
   ]
  },
  {
   "cell_type": "code",
   "execution_count": 7,
   "metadata": {},
   "outputs": [],
   "source": [
    "# NO MODIFICAR! S'utilitza per als asserts\n",
    "from typing import List\n",
    "\n",
    "def check_number(number: str):\n",
    "    try:\n",
    "        int(number)\n",
    "        return True\n",
    "    except ValueError:\n",
    "        return False\n",
    "\n",
    "def check_order(ordered_list: List[int], number_of_numbers_in_list: int):\n",
    "    list_ordered = True\n",
    "    if number_of_numbers_in_list == -1:\n",
    "        if len(ordered_list) > 0:\n",
    "            return False\n",
    "        return True\n",
    "    for it in range(len(ordered_list)):\n",
    "        is_number = check_number(ordered_list[it])\n",
    "        if any([it < number_of_numbers_in_list and not is_number,\n",
    "                it >= number_of_numbers_in_list and is_number]):\n",
    "                list_ordered = False\n",
    "                break\n",
    "    return list_ordered"
   ]
  },
  {
   "cell_type": "code",
   "execution_count": 17,
   "metadata": {
    "id": "AE2SWLB0nvvs"
   },
   "outputs": [
    {
     "name": "stdout",
     "output_type": "stream",
     "text": [
      "['zzz', 'tzu', 'abc', '123', '789', '870', '456']\n"
     ]
    }
   ],
   "source": [
    "# Ordenació per selecció\n",
    "def xifres_lletres_ord_sel(llista):\n",
    "    \"\"\"\n",
    "    Aquesta funció modifica la llista separant lletres i xifres\n",
    "    \n",
    "    Parameters\n",
    "    ----------\n",
    "    llista: list\n",
    "    \n",
    "    Returns\n",
    "    -------\n",
    "    llista_ordenada: list\n",
    "    \n",
    "    \"\"\"\n",
    "\n",
    "    for i in range(len(llista)):\n",
    "        minim = i\n",
    "        for j in range(i,len(llista)):\n",
    "            if llista[j].isalpha():\n",
    "                minim = j\n",
    "        llista[minim], llista[i] = llista[i], llista[minim]\n",
    "    return llista\n",
    "print(xifres_lletres_ord_sel([\"456\",\"789\",\"abc\",\"123\",\"tzu\",\"870\",\"zzz\"]))\n",
    "        \n"
   ]
  },
  {
   "cell_type": "code",
   "execution_count": 13,
   "metadata": {
    "id": "pof_uujUnvvs",
    "outputId": "2be43e73-5724-4b36-862b-675443448b8d"
   },
   "outputs": [
    {
     "ename": "AssertionError",
     "evalue": "",
     "output_type": "error",
     "traceback": [
      "\u001b[1;31m---------------------------------------------------------------------------\u001b[0m",
      "\u001b[1;31mAssertionError\u001b[0m                            Traceback (most recent call last)",
      "Cell \u001b[1;32mIn[13], line 2\u001b[0m\n\u001b[0;32m      1\u001b[0m \u001b[38;5;66;03m# Asserts públics\u001b[39;00m\n\u001b[1;32m----> 2\u001b[0m \u001b[38;5;28;01massert\u001b[39;00m check_order(xifres_lletres_ord_sel([\u001b[38;5;124m\"\u001b[39m\u001b[38;5;124m456\u001b[39m\u001b[38;5;124m\"\u001b[39m,\u001b[38;5;124m\"\u001b[39m\u001b[38;5;124m789\u001b[39m\u001b[38;5;124m\"\u001b[39m,\u001b[38;5;124m\"\u001b[39m\u001b[38;5;124mabc\u001b[39m\u001b[38;5;124m\"\u001b[39m,\u001b[38;5;124m\"\u001b[39m\u001b[38;5;124m123\u001b[39m\u001b[38;5;124m\"\u001b[39m,\u001b[38;5;124m\"\u001b[39m\u001b[38;5;124mtzu\u001b[39m\u001b[38;5;124m\"\u001b[39m,\u001b[38;5;124m\"\u001b[39m\u001b[38;5;124m870\u001b[39m\u001b[38;5;124m\"\u001b[39m,\u001b[38;5;124m\"\u001b[39m\u001b[38;5;124mzzz\u001b[39m\u001b[38;5;124m\"\u001b[39m]), \u001b[38;5;241m4\u001b[39m)\n\u001b[0;32m      3\u001b[0m \u001b[38;5;28;01massert\u001b[39;00m check_order(xifres_lletres_ord_sel([\u001b[38;5;124m\"\u001b[39m\u001b[38;5;124mzzz\u001b[39m\u001b[38;5;124m\"\u001b[39m]), \u001b[38;5;241m0\u001b[39m)\n\u001b[0;32m      4\u001b[0m \u001b[38;5;28;01massert\u001b[39;00m check_order(xifres_lletres_ord_sel([\u001b[38;5;124m\"\u001b[39m\u001b[38;5;124m136\u001b[39m\u001b[38;5;124m\"\u001b[39m]), \u001b[38;5;241m1\u001b[39m)\n",
      "\u001b[1;31mAssertionError\u001b[0m: "
     ]
    }
   ],
   "source": [
    "# Asserts públics\n",
    "assert check_order(xifres_lletres_ord_sel([\"456\",\"789\",\"abc\",\"123\",\"tzu\",\"870\",\"zzz\"]), 4)\n",
    "assert check_order(xifres_lletres_ord_sel([\"zzz\"]), 0)\n",
    "assert check_order(xifres_lletres_ord_sel([\"136\"]), 1)"
   ]
  },
  {
   "cell_type": "markdown",
   "metadata": {
    "id": "KEliyz7Mnvvt"
   },
   "source": [
    "La complexitat de l'algorisme és $O( )$: \n",
    "\n"
   ]
  },
  {
   "cell_type": "markdown",
   "metadata": {},
   "source": [
    "Escriu una funció ``xifres_lletres_ord_QS`` que resolugi el problema usant el mètode de ***quicksort***. Demostra que la complexitat de l'algorisme que has éscrit és $\\mathcal{O}(n)$."
   ]
  },
  {
   "cell_type": "code",
   "execution_count": null,
   "metadata": {
    "id": "VNiVWQaGnvvt"
   },
   "outputs": [],
   "source": [
    "# quicksort lineal\n",
    "def xifres_lletres_ord_QS(llista):\n",
    "    \"\"\"\n",
    "    Aquesta funció modifica la llista separant lletres i xifres\n",
    "    \n",
    "    Parameters\n",
    "    ----------\n",
    "    llista: list\n",
    "    \n",
    "    Returns\n",
    "    -------\n",
    "    llista_ordenada: list\n",
    "    \n",
    "    \"\"\"\n",
    "        \n"
   ]
  },
  {
   "cell_type": "code",
   "execution_count": null,
   "metadata": {
    "id": "hMMHkARonvvt",
    "outputId": "07cf6cce-b1b1-4212-9d10-a38328b36c34"
   },
   "outputs": [],
   "source": [
    "# Asserts públics\n",
    "assert check_order(xifres_lletres_ord_QS([\"456\",\"789\",\"abc\",\"123\",\"tzu\",\"870\",\"zzz\"]), 4)\n",
    "assert check_order(xifres_lletres_ord_QS([\"zzz\"]), 0)\n",
    "assert check_order(xifres_lletres_ord_QS([\"136\"]), 1)"
   ]
  },
  {
   "cell_type": "markdown",
   "metadata": {
    "id": "mfoUYZxknvvt"
   },
   "source": [
    "La complexitat de l'algorisme és $O( )$: \n"
   ]
  }
 ],
 "metadata": {
  "colab": {
   "collapsed_sections": [],
   "name": "5.24.ipynb",
   "provenance": []
  },
  "kernelspec": {
   "display_name": "Python 3",
   "language": "python",
   "name": "python3"
  },
  "language_info": {
   "codemirror_mode": {
    "name": "ipython",
    "version": 3
   },
   "file_extension": ".py",
   "mimetype": "text/x-python",
   "name": "python",
   "nbconvert_exporter": "python",
   "pygments_lexer": "ipython3",
   "version": "3.12.6"
  }
 },
 "nbformat": 4,
 "nbformat_minor": 0
}
