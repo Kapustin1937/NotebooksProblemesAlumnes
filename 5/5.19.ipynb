{
 "cells": [
  {
   "cell_type": "markdown",
   "metadata": {
    "id": "NXwm80_4ljyd"
   },
   "source": [
    "# Capítol 5 - Dividir i Vèncer"
   ]
  },
  {
   "cell_type": "markdown",
   "metadata": {
    "id": "Zwowf4Naljyq"
   },
   "source": [
    "### 5.19 Karatsuba"
   ]
  },
  {
   "cell_type": "markdown",
   "metadata": {},
   "source": [
    "Escriu una funció recursiva que calculi la multiplicació pel mètode de Karatsuba en base 10 de dos nombres. Apunta la complexitat de les operacions involucrades i explica quantes vegades es crida en executar `karatsuba(1000, 1050)`."
   ]
  },
  {
   "cell_type": "code",
   "execution_count": 49,
   "metadata": {
    "id": "fappkOz1ljyq"
   },
   "outputs": [],
   "source": [
    "def karatsuba(x, y):\n",
    "    \"\"\"\n",
    "    Aquesta funció implementa l'algorisme de multiplicació de Karatsuba de manera recursiva.\n",
    "    \n",
    "    Parameters\n",
    "    ----------\n",
    "    x: int\n",
    "    y: int\n",
    "    \n",
    "    Returns\n",
    "    -------\n",
    "    prod: int\n",
    "    \"\"\"\n",
    "    if x < 10 or y < 10:\n",
    "        return x * y\n",
    "    \n",
    "    n = max(len(str(x)),len(str(y)))\n",
    "    m = n // 2\n",
    "\n",
    "    a = x // 10**m\n",
    "    b = x % 10**m\n",
    "    c = y // 10**m\n",
    "    d = y % 10**m\n",
    "\n",
    "    ac = karatsuba(a,c)\n",
    "    bd = karatsuba(b,d)\n",
    "    ab_cd = karatsuba(a+b,c+d)\n",
    "\n",
    "    centro = ab_cd - ac - bd\n",
    "\n",
    "    prod = ac * 10 ** (2*m) + centro * 10 ** (m) + bd\n",
    "\n",
    "    return prod\n"
   ]
  },
  {
   "cell_type": "code",
   "execution_count": 50,
   "metadata": {
    "id": "jBmU2KUQljyq"
   },
   "outputs": [],
   "source": [
    "assert karatsuba(1100,4050) == 4455000"
   ]
  }
 ],
 "metadata": {
  "colab": {
   "collapsed_sections": [],
   "name": "5.19.ipynb",
   "provenance": []
  },
  "kernelspec": {
   "display_name": "Python 3",
   "language": "python",
   "name": "python3"
  },
  "language_info": {
   "codemirror_mode": {
    "name": "ipython",
    "version": 3
   },
   "file_extension": ".py",
   "mimetype": "text/x-python",
   "name": "python",
   "nbconvert_exporter": "python",
   "pygments_lexer": "ipython3",
   "version": "3.12.6"
  }
 },
 "nbformat": 4,
 "nbformat_minor": 0
}
