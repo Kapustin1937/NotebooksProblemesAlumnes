{
 "cells": [
  {
   "cell_type": "markdown",
   "metadata": {
    "id": "AcUwk4fIi0qR"
   },
   "source": [
    "# Capítol 5 - Dividir i Vèncer"
   ]
  },
  {
   "cell_type": "markdown",
   "metadata": {
    "id": "3Sw3INvri0qd"
   },
   "source": [
    "### 5.9 Valor igual al seu índex"
   ]
  },
  {
   "cell_type": "markdown",
   "metadata": {},
   "source": [
    "Donada una llista $L$ de $n$ nombres enters ordenats de manera estrictament creixent (i.e. no hi ha repeticions), crea una funció \"existeix\", que, usant l'estratègia de dividir i vèncer, comprovi si existeix algun element de la llista que compleixi el següent:\n",
    "\n",
    "$$L[i] = i, i ∈ \\{0, ..., n-1\\}$$\n",
    "\n",
    "L'algorisme proposat ha de tenir complexitat $O(log(n))$."
   ]
  },
  {
   "cell_type": "code",
   "execution_count": 1,
   "metadata": {
    "id": "VrFjoJqXi0qd"
   },
   "outputs": [],
   "source": [
    "def existeix(llista):\n",
    "    \"\"\"\n",
    "    Aquesta funció comprova si existeix un element tal que llista[i] = i.\n",
    "    \n",
    "    Parameters\n",
    "    ----------\n",
    "    llista: list\n",
    "    \n",
    "    Returns\n",
    "    -------\n",
    "    bExisteix: bool\n",
    "    \"\"\"\n",
    "    right = len(llista) - 1\n",
    "    left = 0\n",
    "    while left < right:\n",
    "        mid = (left + right) // 2\n",
    "        if llista[mid] > mid:\n",
    "            right = mid\n",
    "        elif llista[mid] == mid:\n",
    "            return True\n",
    "        else:\n",
    "            left = mid + 1\n",
    "    return False"
   ]
  },
  {
   "cell_type": "code",
   "execution_count": 2,
   "metadata": {
    "id": "uV0GCC3Gi0qd"
   },
   "outputs": [],
   "source": [
    "    assert existeix([1, 4, 5, 6, 7]) == False\n",
    "    assert existeix([0, 1, 2, 7]) == True\n",
    "    assert existeix([-1, 1, 4, 8]) == True"
   ]
  }
 ],
 "metadata": {
  "colab": {
   "collapsed_sections": [],
   "name": "5.9.ipynb",
   "provenance": []
  },
  "kernelspec": {
   "display_name": "Python 3",
   "language": "python",
   "name": "python3"
  },
  "language_info": {
   "codemirror_mode": {
    "name": "ipython",
    "version": 3
   },
   "file_extension": ".py",
   "mimetype": "text/x-python",
   "name": "python",
   "nbconvert_exporter": "python",
   "pygments_lexer": "ipython3",
   "version": "3.12.6"
  }
 },
 "nbformat": 4,
 "nbformat_minor": 1
}
