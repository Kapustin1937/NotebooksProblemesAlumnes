{
 "cells": [
  {
   "cell_type": "markdown",
   "metadata": {
    "id": "RLZVexTalhz5"
   },
   "source": [
    "# Capítol 5 - Dividir i Vèncer"
   ]
  },
  {
   "cell_type": "markdown",
   "metadata": {
    "id": "xgdADkwDlh0O"
   },
   "source": [
    "### 5.17 Patro binari"
   ]
  },
  {
   "cell_type": "markdown",
   "metadata": {},
   "source": [
    "Donat un patró binari (format per 0 i 1) en què alguns dígits s'han substituit per `'?'`, troba totes les possibles combinacions de nombres binaris que encaixin canviant `'?'` per `'0'` o `'1'`."
   ]
  },
  {
   "cell_type": "code",
   "execution_count": 2,
   "metadata": {
    "id": "5gGwC-tSlh0O"
   },
   "outputs": [
    {
     "name": "stdout",
     "output_type": "stream",
     "text": [
      "{'1111101100', '1011001101', '1111101001', '1111001000', '1011001001', '1111001101', '1011101001', '1011101101', '1111001100', '1011101000', '1111001001', '1011101100', '1011001100', '1011001000', '1111101000', '1111101101'}\n"
     ]
    }
   ],
   "source": [
    "def patro_binari(patro):\n",
    "    \"\"\"\n",
    "    Aquesta funció troba totes les possibles combinacions de nombre binaris a partir del patro.\n",
    "    \n",
    "    Parameters\n",
    "    ----------\n",
    "    patro: string\n",
    "    \n",
    "    Returns\n",
    "    -------\n",
    "    combinacions: list\n",
    "    \"\"\"\n",
    "    temp_patro = \"\"\n",
    "    counter = 0\n",
    "    counter_inter = patro.count(\"?\")\n",
    "    combinacions = []\n",
    "    for i in range(2**counter_inter):\n",
    "        counter_puta = 0\n",
    "        temp_patro = list(patro)\n",
    "        while \"?\" in temp_patro:\n",
    "            indeces = (str(bin(counter))[2:].zfill(counter_inter))\n",
    "            temp_patro[temp_patro.index(\"?\")] =  indeces[counter_puta]\n",
    "            counter_puta += 1\n",
    "        combinacions.append(\"\".join(temp_patro))\n",
    "        counter += 1\n",
    "\n",
    "    return set(combinacions)\n",
    "print(set(patro_binari('1?11?01?0?')))"
   ]
  },
  {
   "cell_type": "code",
   "execution_count": 3,
   "metadata": {
    "id": "9xCwHMz_lh0O"
   },
   "outputs": [],
   "source": [
    "assert set(patro_binari('1?11?01?0?')) == set(['1011001000', '1011001001', '1011001100', '1011001101', '1011101000', '1011101001', '1011101100', '1011101101', '1111001000', '1111001001', '1111001100', '1111001101', '1111101000', '1111101001', '1111101100', '1111101101'])"
   ]
  }
 ],
 "metadata": {
  "colab": {
   "collapsed_sections": [],
   "name": "5.17.ipynb",
   "provenance": []
  },
  "kernelspec": {
   "display_name": "Python 3",
   "language": "python",
   "name": "python3"
  },
  "language_info": {
   "codemirror_mode": {
    "name": "ipython",
    "version": 3
   },
   "file_extension": ".py",
   "mimetype": "text/x-python",
   "name": "python",
   "nbconvert_exporter": "python",
   "pygments_lexer": "ipython3",
   "version": "3.12.6"
  }
 },
 "nbformat": 4,
 "nbformat_minor": 0
}
