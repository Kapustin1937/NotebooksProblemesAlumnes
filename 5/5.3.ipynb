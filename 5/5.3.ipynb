{
 "cells": [
  {
   "cell_type": "markdown",
   "metadata": {
    "id": "TZmUuMEEhkf6"
   },
   "source": [
    "# Capítol 5 - Dividir i Vèncer"
   ]
  },
  {
   "cell_type": "markdown",
   "metadata": {
    "id": "cCaw6ElfhkgC"
   },
   "source": [
    "### 5.3 Seqüència capícua més llarga"
   ]
  },
  {
   "cell_type": "markdown",
   "metadata": {},
   "source": [
    "Escriu una funció que donada una cadena trobi la llargada de la subseqüència capicua més llarga de manera òptima. "
   ]
  },
  {
   "cell_type": "code",
   "execution_count": 7,
   "metadata": {
    "id": "CD8fbLMahkgC"
   },
   "outputs": [
    {
     "name": "stdout",
     "output_type": "stream",
     "text": [
      "APXPRABARXP\n",
      "APXPRABARX\n",
      "APXPRABAR\n",
      "APXPRABA\n",
      "PXPRAB\n",
      "PXPRA\n",
      "PXPR\n",
      "PXP\n",
      "X\n",
      "XPR\n",
      "XP\n",
      "X\n",
      "P\n",
      "PR\n",
      "P\n",
      "R\n",
      "XPRA\n",
      "XPR\n",
      "PRA\n",
      "PR\n",
      "RA\n",
      "R\n",
      "A\n",
      "XPRAB\n",
      "XPRA\n",
      "PRAB\n",
      "PRA\n",
      "RAB\n",
      "RA\n",
      "AB\n",
      "A\n",
      "B\n",
      "PXPRABAR\n",
      "PXPRABA\n",
      "PXPRAB\n",
      "XPRABA\n",
      "XPRAB\n",
      "PRABA\n",
      "PRAB\n",
      "RABA\n",
      "RAB\n",
      "ABA\n",
      "B\n",
      "XPRABAR\n",
      "XPRABA\n",
      "PRABAR\n",
      "PRABA\n",
      "RABAR\n",
      "ABA\n",
      "B\n",
      "PXPRABARX\n",
      "PXPRABAR\n",
      "XPRABARX\n",
      "PRABAR\n",
      "PXPRABARXP\n",
      "XPRABARX\n",
      "PRABAR\n",
      "9\n"
     ]
    }
   ],
   "source": [
    "def subs_capicua_opt(cadena, solucions = {}):\n",
    "    \"\"\"\n",
    "    Aquesta funció troba la subseqüència més llarga capícua\n",
    "    d'una cadena donada de manera òptima amb programació dinàmica\n",
    "    \n",
    "    Parameters\n",
    "    ----------\n",
    "    cadena: string\n",
    "    solucions: dict\n",
    "        diccionari que conté la memòria de solucions \n",
    "        per optimitzar el rendiment\n",
    "    \n",
    "    Returns\n",
    "    -------\n",
    "    longitud: int\n",
    "    \"\"\"\n",
    "    print(cadena)\n",
    "    if len(cadena) < 1:\n",
    "        return 0\n",
    "    if len(cadena) == 1:\n",
    "        return 1\n",
    "    if cadena in solucions:\n",
    "        return solucions[cadena]\n",
    "    \n",
    "    if cadena[0] == cadena[-1]:\n",
    "        return subs_capicua_opt(cadena[1:-1]) + 2\n",
    "    else:\n",
    "        solucion = max(subs_capicua_opt(cadena[0:-1]),subs_capicua_opt(cadena[1:]))\n",
    "        solucions[cadena] = solucion\n",
    "        return(solucion)\n",
    "print(subs_capicua_opt(\"APXPRABARXP\"))"
   ]
  },
  {
   "cell_type": "code",
   "execution_count": 8,
   "metadata": {
    "id": "T73jzsLwhkgD"
   },
   "outputs": [
    {
     "name": "stdout",
     "output_type": "stream",
     "text": [
      "APXPRABARXP\n"
     ]
    }
   ],
   "source": [
    "assert subs_capicua_opt(\"APXPRABARXP\") == 9"
   ]
  }
 ],
 "metadata": {
  "colab": {
   "collapsed_sections": [],
   "name": "5.3.ipynb",
   "provenance": []
  },
  "kernelspec": {
   "display_name": "Python 3",
   "language": "python",
   "name": "python3"
  },
  "language_info": {
   "codemirror_mode": {
    "name": "ipython",
    "version": 3
   },
   "file_extension": ".py",
   "mimetype": "text/x-python",
   "name": "python",
   "nbconvert_exporter": "python",
   "pygments_lexer": "ipython3",
   "version": "3.11.3"
  }
 },
 "nbformat": 4,
 "nbformat_minor": 0
}
