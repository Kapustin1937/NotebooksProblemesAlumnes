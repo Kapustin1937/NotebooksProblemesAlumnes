{
 "cells": [
  {
   "cell_type": "markdown",
   "metadata": {
    "id": "uUH_vwd8g30H"
   },
   "source": [
    "# Capítol 5 - Dividir i Vèncer"
   ]
  },
  {
   "cell_type": "markdown",
   "metadata": {
    "id": "oaygUdL7g30T"
   },
   "source": [
    "### 5.8 Rotacions"
   ]
  },
  {
   "cell_type": "markdown",
   "metadata": {},
   "source": [
    "Donada una llista ordenada de nombres enters, definim una **rotació** com l'operació de moure elmeents del final de la llista al principi. Escriu una funció que, donada una llista, calculi quantes rotacions s'han aplicat prèviament. Podem assumir que la llista no conté cap element duplicat."
   ]
  },
  {
   "cell_type": "code",
   "execution_count": 29,
   "metadata": {
    "id": "QUsXYGZ5g30U"
   },
   "outputs": [
    {
     "name": "stdout",
     "output_type": "stream",
     "text": [
      "0 5\n",
      "2\n",
      "0 2\n",
      "1\n",
      "2\n"
     ]
    }
   ],
   "source": [
    "def rotacions(llista):\n",
    "    \"\"\"\n",
    "    Aquesta funció troba quantes rotacions s'han fet a la llista.\n",
    "    \n",
    "    Parameters\n",
    "    ----------\n",
    "    llista: list\n",
    "\n",
    "    Returns\n",
    "    -------\n",
    "    numRotacions: int\n",
    "    \"\"\"\n",
    "    left = 0\n",
    "    right = len(llista) - 1\n",
    "    while left < right:\n",
    "        print(left, right)\n",
    "        mid = (left + right) // 2\n",
    "        print(mid)\n",
    "        if llista[mid] > llista[left]:\n",
    "            left = mid + 1\n",
    "        elif llista[mid] < llista[left]:\n",
    "            right = mid\n",
    "        else:\n",
    "            return mid + 1\n",
    "    return mid + 1\n",
    "print(rotacions([9, 10, 2, 5, 6, 8]))"
   ]
  },
  {
   "cell_type": "code",
   "execution_count": 30,
   "metadata": {
    "id": "mjUyS4L0g30U"
   },
   "outputs": [
    {
     "name": "stdout",
     "output_type": "stream",
     "text": [
      "0 5\n",
      "2\n",
      "0 2\n",
      "1\n",
      "0 5\n",
      "2\n",
      "3 5\n",
      "4\n",
      "3 4\n",
      "3\n",
      "0 5\n",
      "2\n",
      "0 2\n",
      "1\n",
      "0 1\n",
      "0\n"
     ]
    }
   ],
   "source": [
    "assert rotacions([9, 10, 2, 5, 6, 8]) == 2\n",
    "assert rotacions([3, 5, 10, 12, 1, 2]) == 4\n",
    "assert rotacions([20, 2, 3, 7, 15, 18]) == 1"
   ]
  }
 ],
 "metadata": {
  "colab": {
   "collapsed_sections": [],
   "name": "5.8.ipynb",
   "provenance": []
  },
  "kernelspec": {
   "display_name": "Python 3",
   "language": "python",
   "name": "python3"
  },
  "language_info": {
   "codemirror_mode": {
    "name": "ipython",
    "version": 3
   },
   "file_extension": ".py",
   "mimetype": "text/x-python",
   "name": "python",
   "nbconvert_exporter": "python",
   "pygments_lexer": "ipython3",
   "version": "3.11.3"
  }
 },
 "nbformat": 4,
 "nbformat_minor": 1
}
