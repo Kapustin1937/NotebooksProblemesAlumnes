{
 "cells": [
  {
   "cell_type": "markdown",
   "metadata": {
    "id": "Zf2uFxcwoDze"
   },
   "source": [
    "# Capítol 5 - Dividir i Vèncer"
   ]
  },
  {
   "cell_type": "markdown",
   "metadata": {
    "id": "sSIVADBZoDz0"
   },
   "source": [
    "## 5.25 Quantes vegades apareix una cadena com a subq"
   ]
  },
  {
   "cell_type": "code",
   "execution_count": 12,
   "metadata": {
    "id": "drpjQcKloDz0"
   },
   "outputs": [],
   "source": [
    "def comptarSubsequencia(paraula, cadena, diccSolucions = {}):\n",
    "    \"\"\"\n",
    "    Aquesta funció determina quantes vegades apareix una cadena en una paraula\n",
    "    com a subseqüència\n",
    "    \n",
    "    Parameters\n",
    "    ----------\n",
    "    paraula: string\n",
    "        paraula en la que buscar la cadena\n",
    "    cadena: string\n",
    "        cadena a buscar\n",
    "    diccSolucions: dict    \n",
    "    \n",
    "    Returns\n",
    "    -------\n",
    "    num: int\n",
    "        nombre de vegades que apareix\n",
    "    \"\"\"\n",
    "    if len(cadena) == 0:\n",
    "        return 1\n",
    "    if len(paraula) == 0:\n",
    "        return 0\n",
    "    num = 0\n",
    "    clave = (len(paraula),len(cadena))\n",
    "    if clave in diccSolucions:\n",
    "        return diccSolucions[clave]\n",
    "    for index in range(len(paraula)):\n",
    "        if cadena[0] == paraula[index]:\n",
    "            num += comptarSubsequencia(paraula[1:],cadena[index+1:],diccSolucions)\n",
    "    diccSolucions[clave] = num\n",
    "    return num"
   ]
  },
  {
   "cell_type": "code",
   "execution_count": 13,
   "metadata": {
    "id": "BmlpJSYBoDz0"
   },
   "outputs": [],
   "source": [
    "assert comptarSubsequencia(\"subsequencia\",\"sue\") == 4"
   ]
  }
 ],
 "metadata": {
  "colab": {
   "collapsed_sections": [],
   "name": "5.25.ipynb",
   "provenance": []
  },
  "kernelspec": {
   "display_name": "Python 3",
   "language": "python",
   "name": "python3"
  },
  "language_info": {
   "codemirror_mode": {
    "name": "ipython",
    "version": 3
   },
   "file_extension": ".py",
   "mimetype": "text/x-python",
   "name": "python",
   "nbconvert_exporter": "python",
   "pygments_lexer": "ipython3",
   "version": "3.12.6"
  }
 },
 "nbformat": 4,
 "nbformat_minor": 0
}
