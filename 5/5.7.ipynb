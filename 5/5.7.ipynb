{
 "cells": [
  {
   "cell_type": "markdown",
   "metadata": {
    "id": "9eA3juPqlBQV"
   },
   "source": [
    "# Capítol 5 - Dividir i Vèncer"
   ]
  },
  {
   "cell_type": "markdown",
   "metadata": {
    "id": "bGI0zfFtlBQf"
   },
   "source": [
    "### 5.7 Zeros al final"
   ]
  },
  {
   "cell_type": "markdown",
   "metadata": {},
   "source": [
    "Donada una llista d'enterns, escriu una funció que desplaci tots els zeros de la llista al final. No alteris la resta d'elements de la llista. Aquesta funció no ha de retornar cap valor, ha de modificar la llista original."
   ]
  },
  {
   "cell_type": "code",
   "execution_count": 16,
   "metadata": {
    "id": "1cq1JvoUlBQg"
   },
   "outputs": [
    {
     "name": "stdout",
     "output_type": "stream",
     "text": [
      "[3, 1, 5, 2, 7, 8, 0, 0, 0, 0, 0]\n"
     ]
    }
   ],
   "source": [
    "def zeros_final(llista):\n",
    "    \"\"\"\n",
    "    Aquesta funció mou tots els zeros de la llista donada al final\n",
    "    la funció és una variació del quicksort en que fem swap dels elements\n",
    "    de la llista usant com a pivot el 0\n",
    "    \n",
    "    Parameters\n",
    "    ----------\n",
    "    llista: list\n",
    "    \n",
    "    Returns\n",
    "    -------\n",
    "    None\n",
    "    \"\"\"\n",
    "    \"\"\"\n",
    "    contador = 0\n",
    "    for i in range(len(llista)):\n",
    "        if llista[i] != 0:\n",
    "            llista[i], llista[contador] = llista[contador],llista[i]\n",
    "            contador +=1\n",
    "    \"\"\"\n",
    "    llista_esquerra = []\n",
    "    llista_dreta = []\n",
    "    for i in llista:\n",
    "        if i == 0:\n",
    "            llista_esquerra.append(0)\n",
    "        else:\n",
    "            llista_dreta.append(i)\n",
    "    temp_llista = llista_dreta + llista_esquerra\n",
    "    for i in range(len(llista)):\n",
    "        llista[i] = temp_llista[i]\n",
    "llista =  [0,3,0,1,0,5,0,0,2,7,8]\n",
    "zeros_final(llista)\n",
    "print(llista)"
   ]
  },
  {
   "cell_type": "code",
   "execution_count": 17,
   "metadata": {
    "id": "XSdSH0i3lBQg"
   },
   "outputs": [],
   "source": [
    "llista =  [0,3,0,1,0,5,0,0,2,7,8]\n",
    "zeros_final(llista)\n",
    "assert llista == [3,1,5,2,7,8,0,0,0,0,0]"
   ]
  }
 ],
 "metadata": {
  "colab": {
   "collapsed_sections": [],
   "name": "5.7.ipynb",
   "provenance": []
  },
  "kernelspec": {
   "display_name": "Python 3",
   "language": "python",
   "name": "python3"
  },
  "language_info": {
   "codemirror_mode": {
    "name": "ipython",
    "version": 3
   },
   "file_extension": ".py",
   "mimetype": "text/x-python",
   "name": "python",
   "nbconvert_exporter": "python",
   "pygments_lexer": "ipython3",
   "version": "3.11.3"
  }
 },
 "nbformat": 4,
 "nbformat_minor": 0
}
