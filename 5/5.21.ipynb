{
 "cells": [
  {
   "cell_type": "markdown",
   "metadata": {
    "id": "Fhe5a0zDllva"
   },
   "source": [
    "# Capítol 5 - Dividir i Vèncer"
   ]
  },
  {
   "cell_type": "markdown",
   "metadata": {
    "id": "jie0M-4Ellvr"
   },
   "source": [
    "### 5.21 Estrictament creixents"
   ]
  },
  {
   "cell_type": "markdown",
   "metadata": {},
   "source": [
    "Donat un nombre enter entre 1 i 9, $N$, escriu una funció que trobi tots els nombres amb $N$ dígits, en els quals els dígits apareguin en ordre creixent. Per exemple, 246 seria un nombre de 3 dígits que compliria aquesta condició, però 436 no."
   ]
  },
  {
   "cell_type": "code",
   "execution_count": 20,
   "metadata": {
    "id": "QGfzY8zfllvr"
   },
   "outputs": [
    {
     "name": "stdout",
     "output_type": "stream",
     "text": [
      "[]\n"
     ]
    }
   ],
   "source": [
    "def estrictament_creixents(N):\n",
    "    \"\"\"\n",
    "    Aquesta funció troba tot els nombres de N dígits on aquests són estrictament creixents.\n",
    "    \n",
    "    Parameters\n",
    "    ----------\n",
    "    N: int\n",
    "    \n",
    "    Returns\n",
    "    -------\n",
    "    llista: list\n",
    "    \"\"\"\n",
    "    llista = []\n",
    "    if N < 1:\n",
    "        return []\n",
    "    elif N == 1:\n",
    "        return [i for i in range(1,10)]\n",
    "    for n in estrictament_creixents(N-1):\n",
    "        for i in range(1,int(str(n)[0])):\n",
    "            llista.append(int(str(i)+str(n)))\n",
    "    return llista\n",
    "print(estrictament_creixents(0))"
   ]
  },
  {
   "cell_type": "code",
   "execution_count": 13,
   "metadata": {
    "id": "XOW0RKeDllvr",
    "outputId": "6699e6da-a4c7-483b-d2f0-83b3bcc8c021"
   },
   "outputs": [
    {
     "name": "stdout",
     "output_type": "stream",
     "text": [
      "9\n",
      "36\n",
      "84\n",
      "126\n",
      "126\n",
      "84\n",
      "36\n",
      "9\n",
      "1\n"
     ]
    }
   ],
   "source": [
    "assert estrictament_creixents(8) == [12345678,  12345679,  12345689,  12345789,  12346789,  12356789,  12456789,  13456789,  23456789]\n",
    "for i in range(1, 10):\n",
    "    print(len(estrictament_creixents(i)))"
   ]
  }
 ],
 "metadata": {
  "colab": {
   "collapsed_sections": [],
   "name": "5.21.ipynb",
   "provenance": []
  },
  "kernelspec": {
   "display_name": "Python 3",
   "language": "python",
   "name": "python3"
  },
  "language_info": {
   "codemirror_mode": {
    "name": "ipython",
    "version": 3
   },
   "file_extension": ".py",
   "mimetype": "text/x-python",
   "name": "python",
   "nbconvert_exporter": "python",
   "pygments_lexer": "ipython3",
   "version": "3.12.6"
  }
 },
 "nbformat": 4,
 "nbformat_minor": 0
}
