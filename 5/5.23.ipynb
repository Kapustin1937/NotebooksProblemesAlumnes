{
 "cells": [
  {
   "cell_type": "markdown",
   "metadata": {
    "id": "Y4Syz3Z6njBa"
   },
   "source": [
    "# Capítol 5 - Dividir i Vèncer"
   ]
  },
  {
   "cell_type": "markdown",
   "metadata": {
    "id": "P-PUxj6unjBu"
   },
   "source": [
    "## 5.23 Sumatori parcial màxim"
   ]
  },
  {
   "cell_type": "markdown",
   "metadata": {},
   "source": [
    "Resol el problema del sumatori parcial màxim usant un algorisme de força bruta, és a dir, en aquest cas, de complexitat $O(n^2)$."
   ]
  },
  {
   "cell_type": "code",
   "execution_count": 9,
   "metadata": {
    "id": "reYmSBX9njBu"
   },
   "outputs": [],
   "source": [
    "# Solució força bruta, complexitat O(n^2)\n",
    "def sumatori_parcial_maxim_forca_bruta(llista):\n",
    "    \"\"\"\n",
    "    Aquesta funció troba el sumatori parcial (dels enters consecutius a la llista) de valor màxim.\n",
    "    \n",
    "    Parameters\n",
    "    ----------\n",
    "    llista: list\n",
    "    \n",
    "    Returns\n",
    "    -------\n",
    "    max_sum: int\n",
    "    \"\"\"\n",
    "    maxim = 0\n",
    "\n",
    "    for i in range(len(llista)):\n",
    "        for j in range(i+1,len(llista)+1):\n",
    "            maxim = max(maxim, sum(llista[i:j]))\n",
    "\n",
    "    return maxim\n",
    "#tiene complejidad O(n) porque por cada elemento de la lista recorre tambien todos los elementos posteriores\n",
    "#max([sum(elem) for elem in [llista[i:j] for i in range(len(llista)) for j in range(i+1,len(llista)+1)]])"
   ]
  },
  {
   "cell_type": "code",
   "execution_count": 4,
   "metadata": {
    "id": "Cp-x_sjsnjBu"
   },
   "outputs": [],
   "source": [
    "assert sumatori_parcial_maxim_forca_bruta([-3, 2, -1, 9, 8 , -1, -1,-1, -105]) == 18"
   ]
  },
  {
   "cell_type": "markdown",
   "metadata": {},
   "source": [
    "Ara usa un algorisme que implementi l'estratègia de dividir i véncer. Demostra que la complexitat és $O(n \\log n)$."
   ]
  },
  {
   "cell_type": "code",
   "execution_count": 22,
   "metadata": {
    "id": "8mJch0LLnjBu"
   },
   "outputs": [],
   "source": [
    "# Solució dividir i vèncer, complexitat O(n log n)\n",
    "def sumatori_parcial_divider_vencer(llista):\n",
    "    \"\"\"\n",
    "    Aquesta funció troba el sumatori parcial (dels enters consecutius a la llista) de valor màxim.\n",
    "    \n",
    "    Parameters\n",
    "    ----------\n",
    "    llista: list\n",
    "    \n",
    "    Returns\n",
    "    -------\n",
    "    max_sum: int\n",
    "    \"\"\" \n",
    "    #comprobamos casos base\n",
    "    if len(llista) == 0:\n",
    "        return 0\n",
    "    if len(llista) == 1:\n",
    "        return max(llista[0], 0)\n",
    "\n",
    "    mid = len(llista) // 2\n",
    "    left = llista[:mid]\n",
    "    right = llista[mid:]\n",
    "\n",
    "    #calculamos maximos para la derecha y la izquierda\n",
    "    mex_left = sumatori_parcial_divider_vencer(left)\n",
    "    max_right = sumatori_parcial_divider_vencer(right)\n",
    "\n",
    "    #calculamos la suma maxima de la subcadena que pasa por el centro\n",
    "    #calculos por la izquierda del centro\n",
    "    temp_sum = 0\n",
    "    max_sum_left = 0\n",
    "    for i in range(mid - 1, -1, -1):\n",
    "        temp_sum += llista[i]\n",
    "        max_sum_left = max(max_sum_left, temp_sum)\n",
    "    #calculos por la derecha del centro\n",
    "    temp_sum = 0\n",
    "    max_sum_right = 0\n",
    "    for i in range(mid, len(llista)):\n",
    "        temp_sum += llista[i]\n",
    "        max_sum_right = max(max_sum_right, temp_sum)\n",
    "    #juntamos los calculos\n",
    "    max_center = max_sum_left + max_sum_right\n",
    "\n",
    "    max_sum = max(mex_left, max_right, max_center)\n",
    "\n",
    "    return max_sum\n",
    "#tiene complexidad O(nlogn) ya que en cada iteracion divide el problema en 2 subproblemas cada uno de la mitad de grandes que el primero.\n",
    "#el coste de juntarlos es el coste de calcular la secuencia con mayor suma que pasa por el centro, que tiene complejidad O(n)\n",
    "#o sea, por el teorema master, a = 2, b = 2 y d = 1, por lo cual logb a = d y el algoritmo tiene complejidad O(nlogn)"
   ]
  },
  {
   "cell_type": "code",
   "execution_count": 21,
   "metadata": {
    "id": "zTn8TYvqnjBu"
   },
   "outputs": [],
   "source": [
    "assert sumatori_parcial_divider_vencer([-3, 2, -1, 9, 8 , -1, -1,-1, -105]) == 18"
   ]
  },
  {
   "cell_type": "markdown",
   "metadata": {},
   "source": [
    "Usa ara l'algorisme de [Kadane](https://www.geeksforgeeks.org/largest-sum-contiguous-subarray/)\n",
    "."
   ]
  },
  {
   "cell_type": "code",
   "execution_count": 18,
   "metadata": {
    "id": "IuqoJXhlnjBu"
   },
   "outputs": [
    {
     "name": "stdout",
     "output_type": "stream",
     "text": [
      "18\n"
     ]
    }
   ],
   "source": [
    "# Solució Kadane,complexitat O(n)\n",
    "def sumatori_parcial_kadane(llista): \n",
    "    \"\"\"\n",
    "    Aquesta funció troba el sumatori parcial (dels enters consecutius a la llista) de valor màxim.\n",
    "    \n",
    "    Parameters\n",
    "    ----------\n",
    "    llista: list\n",
    "    \n",
    "    Returns\n",
    "    -------\n",
    "    max_sum: int\n",
    "    \"\"\"\n",
    "    suma = 0\n",
    "    maxim = 0\n",
    "    for i in llista:\n",
    "        suma = max(suma+i,i)\n",
    "        maxim = max(maxim,suma)\n",
    "    return maxim\n",
    "print(sumatori_parcial_kadane([-3, 2, -1, 9, 8 , -1, -1,-1, -105]))\n",
    "#tiene complejidad O(n) porque solo recorre la lista una vez"
   ]
  },
  {
   "cell_type": "code",
   "execution_count": 19,
   "metadata": {
    "id": "QDlKd9rPnjBu"
   },
   "outputs": [],
   "source": [
    "assert sumatori_parcial_kadane([-3, 2, -1, 9, 8 , -1, -1,-1, -105]) == 18"
   ]
  }
 ],
 "metadata": {
  "colab": {
   "collapsed_sections": [],
   "name": "5.23.ipynb",
   "provenance": []
  },
  "kernelspec": {
   "display_name": "Python 3",
   "language": "python",
   "name": "python3"
  },
  "language_info": {
   "codemirror_mode": {
    "name": "ipython",
    "version": 3
   },
   "file_extension": ".py",
   "mimetype": "text/x-python",
   "name": "python",
   "nbconvert_exporter": "python",
   "pygments_lexer": "ipython3",
   "version": "3.12.6"
  }
 },
 "nbformat": 4,
 "nbformat_minor": 4
}
