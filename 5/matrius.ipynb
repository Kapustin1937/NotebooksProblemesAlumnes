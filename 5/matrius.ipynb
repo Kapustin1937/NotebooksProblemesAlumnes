{
 "cells": [
  {
   "cell_type": "code",
   "execution_count": 5,
   "metadata": {},
   "outputs": [],
   "source": [
    "import numpy as np\n",
    "def strassen(A, B):\n",
    "    if A.shape[0] == 1:\n",
    "        return A * B\n",
    "        \n",
    "    mid = A.shape[0] // 2\n",
    "    A11 = A[:mid, :mid]\n",
    "    A12 = A[:mid, mid:]\n",
    "    A21 = A[mid:, :mid]\n",
    "    A22 = A[:mid, :mid:]\n",
    "\n",
    "    B11 = B[:mid, :mid]\n",
    "    B12 = B[:mid, mid:]\n",
    "    B21 = B[mid:, :mid]\n",
    "    B22 = B[:mid, :mid:]\n"
   ]
  }
 ],
 "metadata": {
  "kernelspec": {
   "display_name": "Python 3",
   "language": "python",
   "name": "python3"
  },
  "language_info": {
   "codemirror_mode": {
    "name": "ipython",
    "version": 3
   },
   "file_extension": ".py",
   "mimetype": "text/x-python",
   "name": "python",
   "nbconvert_exporter": "python",
   "pygments_lexer": "ipython3",
   "version": "3.12.6"
  }
 },
 "nbformat": 4,
 "nbformat_minor": 2
}
