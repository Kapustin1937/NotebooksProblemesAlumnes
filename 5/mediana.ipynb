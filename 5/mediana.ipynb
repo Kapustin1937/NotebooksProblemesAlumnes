{
 "cells": [
  {
   "cell_type": "code",
   "execution_count": null,
   "metadata": {},
   "outputs": [],
   "source": [
    "def mediana(llista):\n",
    "\n",
    "\n",
    "    right_list = []\n",
    "    left_list = []\n",
    "    middle_list = []\n",
    "    left = 0\n",
    "    right = len(llista) - 1\n",
    "    print(llista)\n",
    "    while left < right:\n",
    "        pivot = right\n",
    "\n",
    "    for i in llista[left:right-1]:\n",
    "        if i < pivot:\n",
    "            left_list.append(i)\n",
    "        elif i == pivot:\n",
    "            middle_list.append(i)\n",
    "        else:\n",
    "            right_list.append(i)\n",
    "    if len(left_list) == len(right_list):\n",
    "        return pivot\n",
    "        \n",
    "        \n"
   ]
  },
  {
   "cell_type": "code",
   "execution_count": 13,
   "metadata": {},
   "outputs": [
    {
     "name": "stdout",
     "output_type": "stream",
     "text": [
      "[1, 2, 3, 4, 5]\n",
      "[1, 2, 3, 4, 5]\n",
      "[1, 2, 3, 4, 5]\n",
      "[1, 2, 3, 4, 5]\n",
      "[1, 2, 3, 4, 5]\n",
      "1\n"
     ]
    }
   ],
   "source": [
    "print(mediana([1,2,3,4,5]))"
   ]
  }
 ],
 "metadata": {
  "kernelspec": {
   "display_name": "Python 3",
   "language": "python",
   "name": "python3"
  },
  "language_info": {
   "codemirror_mode": {
    "name": "ipython",
    "version": 3
   },
   "file_extension": ".py",
   "mimetype": "text/x-python",
   "name": "python",
   "nbconvert_exporter": "python",
   "pygments_lexer": "ipython3",
   "version": "3.11.3"
  }
 },
 "nbformat": 4,
 "nbformat_minor": 2
}
