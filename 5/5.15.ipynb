{
 "cells": [
  {
   "cell_type": "markdown",
   "metadata": {
    "id": "u9HRWQpykfev"
   },
   "source": [
    "# Capítol 5 - Dividir i Vèncer"
   ]
  },
  {
   "cell_type": "markdown",
   "metadata": {
    "id": "_q0Rmr6fkfe_"
   },
   "source": [
    "### 5.15 Menor i major relatius"
   ]
  },
  {
   "cell_type": "markdown",
   "metadata": {},
   "source": [
    "Donada una llista de nombres enters positius i ordenats en ordre creixent L i un valor k, escriu una funció que trobi dins la llista L el valor immediatament més petit que k i el valor immediatament més gran que k. En qualsevol dels dos casos, retorna -1 si aquest valor no existeix.\n",
    "\n",
    "L'algorisme ha de tenir un cost sublineal.\n",
    "\n",
    "Fes servir aquesta plantilla per escriure el teu codi:"
   ]
  },
  {
   "cell_type": "code",
   "execution_count": 26,
   "metadata": {
    "id": "Qo24eNG6kfe_"
   },
   "outputs": [
    {
     "name": "stdout",
     "output_type": "stream",
     "text": [
      "(1, 4)\n",
      "(4, 4)\n",
      "(4, 6)\n",
      "(9, -1)\n"
     ]
    }
   ],
   "source": [
    "def menor_major_relatius(nums, k):\n",
    "    \"\"\"\n",
    "    Aquesta funció troba el major i menor relatius.\n",
    "    \n",
    "    Parameters\n",
    "    ----------\n",
    "    nums: list\n",
    "    k: int\n",
    "    \n",
    "    Returns\n",
    "    -------\n",
    "    menor: int\n",
    "    major: int\n",
    "    \"\"\"\n",
    "    left = 0\n",
    "    right = len(nums) - 1\n",
    "    while left < right:\n",
    "        \n",
    "        mid = (right + left) // 2\n",
    "        if mid == left:\n",
    "            return (nums[mid+1],-1)\n",
    "        elif mid == right:\n",
    "            return (-1, nums[mid])\n",
    "        elif nums[mid] == k:\n",
    "            return (nums[mid], nums[mid])\n",
    "        elif nums[mid] > k and nums[mid - 1] < k:\n",
    "            return (nums[mid-1], nums[mid])\n",
    "        elif nums[mid] > k:\n",
    "            right = mid\n",
    "        elif nums[mid] < k:\n",
    "            left = mid\n",
    "print(menor_major_relatius([1,4,6,8,9],3))\n",
    "print(menor_major_relatius([1,4,6,8,9], 4))\n",
    "print(menor_major_relatius([1,4,6,8,9], 5))\n",
    "print(menor_major_relatius([1,4,6,8,9], 10))"
   ]
  },
  {
   "cell_type": "code",
   "execution_count": 27,
   "metadata": {},
   "outputs": [],
   "source": [
    "assert menor_major_relatius([1,4,6,8,9],3) == (1,4)\n",
    "assert menor_major_relatius([1,4,6,8,9], 4) == (4,4)\n",
    "assert menor_major_relatius([1,4,6,8,9], 5) == (4,6)\n",
    "assert menor_major_relatius([1,4,6,8,9],10) == (9,-1)"
   ]
  }
 ],
 "metadata": {
  "colab": {
   "collapsed_sections": [],
   "name": "5.15.ipynb",
   "provenance": []
  },
  "kernelspec": {
   "display_name": "Python 3",
   "language": "python",
   "name": "python3"
  },
  "language_info": {
   "codemirror_mode": {
    "name": "ipython",
    "version": 3
   },
   "file_extension": ".py",
   "mimetype": "text/x-python",
   "name": "python",
   "nbconvert_exporter": "python",
   "pygments_lexer": "ipython3",
   "version": "3.12.6"
  }
 },
 "nbformat": 4,
 "nbformat_minor": 0
}
