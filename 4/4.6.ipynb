{
 "cells": [
  {
   "cell_type": "markdown",
   "metadata": {
    "id": "Wwhw_mq0ZtJB"
   },
   "source": [
    "# Capítol 4 - Algorismes i Text"
   ]
  },
  {
   "cell_type": "markdown",
   "metadata": {
    "id": "4hX7ToEYZtJO"
   },
   "source": [
    "### 4.6 Run Length Encoding"
   ]
  },
  {
   "cell_type": "markdown",
   "metadata": {},
   "source": [
    "**Run Length Encoding** (RLE) és un algorisme de compressió de dades sense pèrdua que agrupa els valors repetits amb el nombre de vegades que es repeteixen per optimitzar la memòria. Per exemple, suposem que tenim la cadena:\n",
    "\n",
    "``BBBBBBBNBBBBBBBBBBBBBNNNBBBBBBBBBBBBNBBBBBBBBB``.\n",
    "\n",
    "Aquesta cadena es pot comprimir en la cadena ``B7N1B13N3B12N1B9``, i s'interpreta de la manera següent: 7 caràcters blancs, 1 de negre, 13 de blancs, 3\n",
    "de negres, 12 de blancs, 1 de negre i 9 de blancs. D'aquesta manera podem\n",
    "reconstruir la cadena original sense pèrdua d'informació.\n",
    "\n",
    "Escriu una funció ``rle`` que donat un text de lletres ASCII (A-Z) el codifiqui usant l'algorsime RLE."
   ]
  },
  {
   "cell_type": "code",
   "execution_count": 11,
   "metadata": {
    "id": "Dw9mM6MOZtJO"
   },
   "outputs": [
    {
     "name": "stdout",
     "output_type": "stream",
     "text": [
      "A1B4N3E3D3Z2A5\n"
     ]
    }
   ],
   "source": [
    "def rle(text):\n",
    "    \"\"\"\n",
    "    Aquesta funció retorna un text codificat segons run length encoding.\n",
    "    \n",
    "    Parameters\n",
    "    ----------\n",
    "    text: string\n",
    "        text a codificar\n",
    "        \n",
    "    Returns\n",
    "    -------\n",
    "    text: string\n",
    "        text codificat\n",
    "    \"\"\"\n",
    "    textcodificat = \"\"\n",
    "    lletra = text[0]\n",
    "    num_lletres = 1\n",
    "    for i in text[1:]:\n",
    "        if i == lletra:\n",
    "            num_lletres += 1\n",
    "        if i != lletra:\n",
    "            textcodificat +=  lletra + str(num_lletres)\n",
    "            lletra = i\n",
    "            num_lletres = 1\n",
    "    textcodificat += lletra + str(num_lletres)\n",
    "    return textcodificat\n",
    "print(rle(\"ABBBBNNNEEEDDDZZAAAAA\"))"
   ]
  },
  {
   "cell_type": "code",
   "execution_count": 10,
   "metadata": {},
   "outputs": [],
   "source": [
    "assert rle(\"ABBBBNNNEEEDDDZZAAAAA\") == 'A1B4N3E3D3Z2A5'\n",
    "assert rle(\"BBBBBBBBBBBBBBBBBWWWWWWZAAA\") == 'B17W6Z1A3'"
   ]
  },
  {
   "cell_type": "markdown",
   "metadata": {
    "id": "-3uU250EZtJQ"
   },
   "source": [
    "       \n",
    "La complexitat de l'algorisme és O(n), ya que iteramos sobre todos los elementos de la lista 1 vez."
   ]
  }
 ],
 "metadata": {
  "colab": {
   "collapsed_sections": [],
   "name": "4.6.ipynb",
   "provenance": []
  },
  "kernelspec": {
   "display_name": "Python 3",
   "language": "python",
   "name": "python3"
  },
  "language_info": {
   "codemirror_mode": {
    "name": "ipython",
    "version": 3
   },
   "file_extension": ".py",
   "mimetype": "text/x-python",
   "name": "python",
   "nbconvert_exporter": "python",
   "pygments_lexer": "ipython3",
   "version": "3.12.6"
  }
 },
 "nbformat": 4,
 "nbformat_minor": 0
}
