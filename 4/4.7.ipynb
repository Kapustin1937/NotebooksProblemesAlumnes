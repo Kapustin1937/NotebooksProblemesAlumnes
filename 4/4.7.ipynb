{
 "cells": [
  {
   "cell_type": "markdown",
   "metadata": {
    "id": "Wwhw_mq0ZtJB"
   },
   "source": [
    "# Capítol 4 - Algorismes i Text"
   ]
  },
  {
   "cell_type": "markdown",
   "metadata": {
    "id": "i1CEFICYZtJO"
   },
   "source": [
    "### 4.7 Subcadena més llarga sense cap caràcter repetit"
   ]
  },
  {
   "cell_type": "markdown",
   "metadata": {},
   "source": [
    "Escriu una funció anomenada *subcadena_mes_llarga* que, donada una cadena de caràcters, identifiqui la subcadena més llarga que no contingui cap caràcter repetit.\n",
    "\n",
    "Per exemple, per a la cadena \"lacadenamesllarga\", la subcadena més llarga sense cap caràcter repetit és \"namesl\""
   ]
  },
  {
   "cell_type": "markdown",
   "metadata": {},
   "source": [
    "Pensa en fer suficients proves per comprovar que el teu algorisme funciona. Pensa en casos extrems dels quals saps la solució, per exemple, què passa si la cadena només té un sol caràcter? O què passa si les lletres repetides van només al principi o només al final?"
   ]
  },
  {
   "cell_type": "markdown",
   "metadata": {},
   "source": [
    "<div style=\"background-color:rgba(0, 0, 0, 0.2); text-align:left; vertical-align: middle;  border-radius:10px\">\n",
    "    <div style=\"padding: 20px\">\n",
    "    <h3>Correcció d'errates: </h3>\n",
    "        <p>La resolució es troba al final del llibre, sota l'etiqueta <B>\"Problema 4.8, pàgina 60\"</B>. Està mal etiquetat, hauria de ser <B>\"Problema 4.7, pàgina 59\"</B></p>\n",
    "    </div>\n",
    "</div>"
   ]
  },
  {
   "cell_type": "code",
   "execution_count": 36,
   "metadata": {
    "id": "i2meRnZHZtJO"
   },
   "outputs": [
    {
     "name": "stdout",
     "output_type": "stream",
     "text": [
      "('namesl', 289, 122)\n",
      "('caden', 324, 117)\n",
      "('cgaden', 361, 146)\n",
      "('namehfs', 400, 145)\n",
      "('cadejn', 441, 174)\n",
      "('a', 289, 49)\n",
      "('qwertyuiopasdfghj', 289, 153)\n",
      "('qwertyuiopasdfgh', 289, 289)\n",
      "('qwertyuiopasdfgh', 289, 289)\n"
     ]
    }
   ],
   "source": [
    "def subcadena_mes_llarga(cadena):\n",
    "    \"\"\"\n",
    "    Aquesta funció identifica la subcadena més llarga sense cap caràcter repetit.\n",
    "    \n",
    "    Parameters\n",
    "    ----------\n",
    "    cadena: string \n",
    "        Cadena donada\n",
    "        \n",
    "    Returns\n",
    "    -------\n",
    "    subcadena: string\n",
    "        Subcadena més llarga sense caràcters repetits\n",
    "    \"\"\"\n",
    "    iniciSubcadena = 0\n",
    "    finalSubcadena = 0\n",
    "    longitud = 0\n",
    "    iteraciones = 0\n",
    "    while finalSubcadena < len(cadena):\n",
    "\n",
    "        iteraciones += 1\n",
    "        iteraciones += len(cadena[iniciSubcadena:finalSubcadena])\n",
    "\n",
    "        if cadena[finalSubcadena] not in cadena[iniciSubcadena:finalSubcadena]:\n",
    "            finalSubcadena += 1\n",
    "        else:\n",
    "            iniciSubcadena += 1\n",
    "\n",
    "        if len(cadena[iniciSubcadena:finalSubcadena]) > longitud:\n",
    "            longitud = len(cadena[iniciSubcadena:finalSubcadena])\n",
    "            iniciSubcadenaFIN = iniciSubcadena\n",
    "            finalSubcadenaFIN = finalSubcadena\n",
    "\n",
    "    return cadena[iniciSubcadenaFIN:finalSubcadenaFIN],len(cadena)**2,iteraciones\n",
    "print(subcadena_mes_llarga('lacadenamesllarga'))\n",
    "print(subcadena_mes_llarga('lacadenamessllarga'))\n",
    "print(subcadena_mes_llarga('lacgadenamesllgarga'))\n",
    "print(subcadena_mes_llarga('lacadenamehfssllarga'))\n",
    "print(subcadena_mes_llarga('lacadejnamesahllsarga'))\n",
    "print(subcadena_mes_llarga('aaaaaaaaaaaaaaaaa'))\n",
    "print(subcadena_mes_llarga('qwertyuiopasdfghj'))\n",
    "print(subcadena_mes_llarga('qwertyuiopasdfghh'))\n",
    "print(subcadena_mes_llarga('qwertyuiopasdfghh'))"
   ]
  },
  {
   "cell_type": "code",
   "execution_count": null,
   "metadata": {},
   "outputs": [],
   "source": []
  },
  {
   "cell_type": "code",
   "execution_count": 10,
   "metadata": {
    "id": "ROtgFUKbZtJO"
   },
   "outputs": [],
   "source": [
    "assert subcadena_mes_llarga('lacadenamesllarga') == 'namesl'\n",
    "assert subcadena_mes_llarga('mesllarga') == 'mesl'\n",
    "assert subcadena_mes_llarga('aaa') ==  'a'"
   ]
  },
  {
   "cell_type": "code",
   "execution_count": null,
   "metadata": {},
   "outputs": [
    {
     "ename": "IndexError",
     "evalue": "string index out of range",
     "output_type": "error",
     "traceback": [
      "\u001b[1;31m---------------------------------------------------------------------------\u001b[0m",
      "\u001b[1;31mIndexError\u001b[0m                                Traceback (most recent call last)",
      "Cell \u001b[1;32mIn[41], line 40\u001b[0m\n\u001b[0;32m     36\u001b[0m             finalSubcadenaFIN \u001b[38;5;241m=\u001b[39m finalSubcadena\n\u001b[0;32m     38\u001b[0m     \u001b[38;5;28;01mreturn\u001b[39;00m cadena[iniciSubcadenaFIN:finalSubcadenaFIN],\u001b[38;5;28mlen\u001b[39m(cadena)\u001b[38;5;241m*\u001b[39m\u001b[38;5;241m*\u001b[39m\u001b[38;5;241m2\u001b[39m,iteraciones\n\u001b[1;32m---> 40\u001b[0m \u001b[38;5;28mprint\u001b[39m(\u001b[43msubcadena_mes_llarga\u001b[49m\u001b[43m(\u001b[49m\u001b[38;5;124;43m'\u001b[39;49m\u001b[38;5;124;43mlacadenamesllarga\u001b[39;49m\u001b[38;5;124;43m'\u001b[39;49m\u001b[43m)\u001b[49m)\n\u001b[0;32m     41\u001b[0m \u001b[38;5;28mprint\u001b[39m(subcadena_mes_llarga(\u001b[38;5;124m'\u001b[39m\u001b[38;5;124mlacadenamessllarga\u001b[39m\u001b[38;5;124m'\u001b[39m))\n\u001b[0;32m     42\u001b[0m \u001b[38;5;28mprint\u001b[39m(subcadena_mes_llarga(\u001b[38;5;124m'\u001b[39m\u001b[38;5;124mlacgadenamesllgarga\u001b[39m\u001b[38;5;124m'\u001b[39m))\n",
      "Cell \u001b[1;32mIn[41], line 31\u001b[0m, in \u001b[0;36msubcadena_mes_llarga\u001b[1;34m(cadena)\u001b[0m\n\u001b[0;32m     29\u001b[0m \u001b[38;5;28;01melse\u001b[39;00m:\n\u001b[0;32m     30\u001b[0m     finalSubcadena \u001b[38;5;241m+\u001b[39m\u001b[38;5;241m=\u001b[39m \u001b[38;5;241m1\u001b[39m\n\u001b[1;32m---> 31\u001b[0m     diccionarioRepetits[\u001b[43mcadena\u001b[49m\u001b[43m[\u001b[49m\u001b[43mfinalSubcadena\u001b[49m\u001b[43m]\u001b[49m] \u001b[38;5;241m=\u001b[39m \u001b[38;5;28;01mTrue\u001b[39;00m\n\u001b[0;32m     33\u001b[0m \u001b[38;5;28;01mif\u001b[39;00m \u001b[38;5;28mlen\u001b[39m(cadena[iniciSubcadena:finalSubcadena]) \u001b[38;5;241m>\u001b[39m longitud:\n\u001b[0;32m     34\u001b[0m     longitud \u001b[38;5;241m=\u001b[39m \u001b[38;5;28mlen\u001b[39m(cadena[iniciSubcadena:finalSubcadena])\n",
      "\u001b[1;31mIndexError\u001b[0m: string index out of range"
     ]
    }
   ],
   "source": [
    "def subcadena_mes_llarga(cadena):\n",
    "    \"\"\"\n",
    "    Aquesta funció identifica la subcadena més llarga sense cap caràcter repetit.\n",
    "    \n",
    "    Parameters\n",
    "    ----------\n",
    "    cadena: string \n",
    "        Cadena donada\n",
    "        \n",
    "    Returns\n",
    "    -------\n",
    "    subcadena: string\n",
    "        Subcadena més llarga sense caràcters repetits\n",
    "    \"\"\"\n",
    "\n",
    "print(subcadena_mes_llarga('lacadenamesllarga'))\n",
    "print(subcadena_mes_llarga('lacadenamessllarga'))\n",
    "print(subcadena_mes_llarga('lacgadenamesllgarga'))"
   ]
  },
  {
   "cell_type": "markdown",
   "metadata": {
    "id": "Lq4upSCXZtJP"
   },
   "source": [
    "La complexitat de l'algorisme és O( )."
   ]
  }
 ],
 "metadata": {
  "colab": {
   "collapsed_sections": [],
   "name": "4.7.ipynb",
   "provenance": []
  },
  "kernelspec": {
   "display_name": "Python 3",
   "language": "python",
   "name": "python3"
  },
  "language_info": {
   "codemirror_mode": {
    "name": "ipython",
    "version": 3
   },
   "file_extension": ".py",
   "mimetype": "text/x-python",
   "name": "python",
   "nbconvert_exporter": "python",
   "pygments_lexer": "ipython3",
   "version": "3.11.3"
  }
 },
 "nbformat": 4,
 "nbformat_minor": 4
}
