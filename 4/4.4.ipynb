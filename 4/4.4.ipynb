{
 "cells": [
  {
   "cell_type": "markdown",
   "metadata": {
    "id": "3o3r06ZwdZrY"
   },
   "source": [
    "# Capítol 4 - Algorismes i Text"
   ]
  },
  {
   "cell_type": "markdown",
   "metadata": {
    "id": "qansbtWydZrg"
   },
   "source": [
    "### 4.4 Totes les subcadenes"
   ]
  },
  {
   "cell_type": "markdown",
   "metadata": {},
   "source": [
    "Escriu una funció que retorni una llista amb totes les subcadenes d'una cadena donada. Fes servir list coprehensions."
   ]
  },
  {
   "cell_type": "code",
   "execution_count": 26,
   "metadata": {
    "id": "aL0b76TVdZrg"
   },
   "outputs": [
    {
     "name": "stdout",
     "output_type": "stream",
     "text": [
      "['a', 'ab', 'abc', 'abcd', 'b', 'bc', 'bcd', 'c', 'cd', 'd']\n"
     ]
    }
   ],
   "source": [
    "def totes_subcadenes(cadena):\n",
    "    \"\"\"\n",
    "    Aquesta funció retorna totes les subcadenes de la cadena donada\n",
    "    \n",
    "    Parameters\n",
    "    ----------\n",
    "    cadena: string\n",
    "    \n",
    "    Returns\n",
    "    -------\n",
    "    subcadenes: list\n",
    "    \"\"\"\n",
    "    # i es la posicion de la primera letra de la subcadena, itera sobre toda la palabra\n",
    "    # j es la posicion de la ultima letra de la subcadena, itera desde i+1 hasta len(cadena)+1\n",
    "    return [cadena[i:j] for i in range(len(cadena)) for j in range(i + 1, len(cadena) + 1)]\n",
    "\n",
    "\n",
    "print(totes_subcadenes(\"abcd\"))"
   ]
  },
  {
   "cell_type": "code",
   "execution_count": 27,
   "metadata": {
    "id": "vK9NuQOKdZrg"
   },
   "outputs": [],
   "source": [
    "assert len(totes_subcadenes('abcd')) == int((len('abcd') *(len('abcd') + 1)/2))\n",
    "assert totes_subcadenes('abcd') == ['a', 'ab', 'abc', 'abcd', 'b', 'bc', 'bcd', 'c', 'cd', 'd']"
   ]
  }
 ],
 "metadata": {
  "colab": {
   "collapsed_sections": [],
   "name": "4.4.ipynb",
   "provenance": []
  },
  "kernelspec": {
   "display_name": "Python 3",
   "language": "python",
   "name": "python3"
  },
  "language_info": {
   "codemirror_mode": {
    "name": "ipython",
    "version": 3
   },
   "file_extension": ".py",
   "mimetype": "text/x-python",
   "name": "python",
   "nbconvert_exporter": "python",
   "pygments_lexer": "ipython3",
   "version": "3.12.6"
  }
 },
 "nbformat": 4,
 "nbformat_minor": 0
}
